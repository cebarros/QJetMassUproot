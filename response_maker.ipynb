{
 "cells": [
  {
   "cell_type": "code",
   "execution_count": null,
   "metadata": {},
   "outputs": [],
   "source": [
    "import time\n",
    "\n",
    "from coffea import hist\n",
    "from coffea.analysis_objects import JaggedCandidateArray\n",
    "import coffea.processor as processor\n",
    "from awkward import JaggedArray\n",
    "import uproot_methods\n",
    "from uproot_methods import *\n",
    "import numpy as np\n",
    "import glob as glob\n",
    "import itertools\n",
    "import json\n",
    "import uproot_methods\n",
    "import copy"
   ]
  },
  {
   "cell_type": "code",
   "execution_count": null,
   "metadata": {},
   "outputs": [],
   "source": [
    "# Look at ProcessorABC to see the expected methods and what they are supposed to do\n",
    "class JetMassProcessor(processor.ProcessorABC):\n",
    "    def __init__(self):\n",
    "        dataset_axis = hist.Cat(\"dataset\", \"Primary dataset\")\n",
    "\n",
    "        pt_axis = hist.Bin(\"pt\", r\"$p_{T}$ [GeV]\", \n",
    "                           np.array([200,240,300,360,400,450,500]))\n",
    "        m_axis = hist.Bin(\"m\", r\"$p_{T}$ [GeV]\", np.array([0,5,10,20,30,40,50,60,80,100,500]))\n",
    "        r_axis = hist.Bin(\"r\", \"RECO / GEN response\", 100, 0, 2)\n",
    "        dr_axis = hist.Bin(\"dr\", r\"$\\Delta r$\", 80, 0, 0.8)\n",
    "        \n",
    "        self._accumulator = processor.dict_accumulator({\n",
    "            'pt':hist.Hist(\"Counts\", dataset_axis, pt_axis),\n",
    "            'm':hist.Hist(\"Counts\", dataset_axis, m_axis),\n",
    "            'msd':hist.Hist(\"Counts\", dataset_axis, m_axis),\n",
    "            'pt_v_m':hist.Hist(\"Counts\", dataset_axis, pt_axis, m_axis ),\n",
    "            'pt_v_msd':hist.Hist(\"Counts\", dataset_axis, pt_axis, m_axis ),\n",
    "            'dr':hist.Hist(\"Counts\", dataset_axis, dr_axis),\n",
    "            'r_pt_ptvm':hist.Hist(\"Counts\", dataset_axis, pt_axis, m_axis, r_axis),\n",
    "            'r_m_ptvm':hist.Hist(\"Counts\", dataset_axis, pt_axis, m_axis, r_axis),\n",
    "            'r_msd_ptvmsd':hist.Hist(\"Counts\", dataset_axis, pt_axis, m_axis, r_axis),\n",
    "            'cutflow': processor.defaultdict_accumulator(int)\n",
    "        })\n",
    "    \n",
    "    @property\n",
    "    def accumulator(self):\n",
    "        return self._accumulator\n",
    "    \n",
    "    def process(self, df):\n",
    "        output = self.accumulator.identity()\n",
    "\n",
    "        #print(\"1\")\n",
    "        dataset = df['dataset']\n",
    "        Jets = JaggedCandidateArray.candidatesfromcounts(\n",
    "            df['nFatJet'],\n",
    "            pt=df['FatJet_pt'],\n",
    "            eta=df['FatJet_eta'],\n",
    "            phi=df['FatJet_phi'],\n",
    "            mass=df['FatJet_mass'],\n",
    "            msoftdrop=np.where( df['FatJet_msoftdrop'] >= 0,df['FatJet_msoftdrop'],0),\n",
    "            jetId=df['FatJet_jetId']\n",
    "            )        \n",
    "        GenJets = JaggedCandidateArray.candidatesfromcounts(\n",
    "            df['nGenJetAK8'],\n",
    "            pt=df['GenJetAK8_pt'],\n",
    "            eta=df['GenJetAK8_eta'],\n",
    "            phi=df['GenJetAK8_phi'],\n",
    "            mass=df['GenJetAK8_mass']\n",
    "            )\n",
    "        GenSubJets = JaggedCandidateArray.candidatesfromcounts(\n",
    "            df['nSubGenJetAK8'],\n",
    "            pt=df['SubGenJetAK8_pt'],\n",
    "            eta=df['SubGenJetAK8_eta'],\n",
    "            phi=df['SubGenJetAK8_phi'],\n",
    "            mass=df['SubGenJetAK8_mass']\n",
    "            )\n",
    "        # Match gen <---> gen subjets\n",
    "        gensubpairs = GenJets.cross( GenSubJets, nested=True )\n",
    "        gensubjetmetric = gensubpairs.i0.p4.delta_r(gensubpairs.i1.p4)\n",
    "        dr_cut = (gensubjetmetric < 0.8)\n",
    "        gensubpairs = gensubpairs[dr_cut]\n",
    "        gensubjets = gensubpairs.i1        \n",
    "        gengroomed = gensubjets.p4.sum()\n",
    "        # Add the groomed p4 and mass to the GenJet table\n",
    "        GenJets.add_attributes( sdp4=gengroomed )\n",
    "        GenJets.add_attributes( msoftdrop=gengroomed.mass )\n",
    "        \n",
    "\n",
    "        # Require at least one reco jet that passes jet id\n",
    "        output['cutflow']['all events'] += Jets.size\n",
    "        jetId_cut = (Jets.jetId > 0)\n",
    "        Jets = Jets[jetId_cut]\n",
    "        output['cutflow']['>=1 with loose id'] += jetId_cut.any().sum()        \n",
    "        oneJet = (Jets.counts >=1)\n",
    "        Jets = Jets[oneJet]\n",
    "        GenJets = GenJets[oneJet]\n",
    "        GenSubJets = GenSubJets[oneJet]\n",
    "                \n",
    "        # Match reco <---> gen\n",
    "        recogenpairs = Jets.cross(GenJets, nested=True)\n",
    "        metric = recogenpairs.i0.p4.delta_r( recogenpairs.i1.p4 )\n",
    "        index_of_minimized = metric.argmin()\n",
    "        dr_cut2 = (metric[index_of_minimized] < 0.8)\n",
    "        recogenpairs = recogenpairs[index_of_minimized][dr_cut2]\n",
    "                \n",
    "        # Make some plots)\n",
    "        ptreco = recogenpairs.i0.pt.flatten().flatten()\n",
    "        ptgen = recogenpairs.i1.pt.flatten().flatten()               \n",
    "        mreco = recogenpairs.i0.mass.flatten().flatten()\n",
    "        msdreco = recogenpairs.i0.msoftdrop.flatten().flatten()\n",
    "        mgen = recogenpairs.i1.mass.flatten().flatten()\n",
    "        msdgen = recogenpairs.i1.msoftdrop.flatten().flatten()        \n",
    "        ptreco_over_ptgen = np.where( ptgen > 0, ptreco/ptgen, 0)\n",
    "        mreco_over_mgen = np.where( mgen > 0, mreco/mgen, 0)\n",
    "        msdreco_over_msdgen = np.where( msdgen > 0, msdreco/msdgen, 0)\n",
    "        \n",
    "        output['pt'].fill(dataset=dataset,pt=ptreco)\n",
    "        output['m'].fill(dataset=dataset,m=mreco)\n",
    "        output['msd'].fill(dataset=dataset,m=msdreco)\n",
    "        output['pt_v_m'].fill(dataset=dataset,pt=ptreco,m=mreco)\n",
    "        output['pt_v_msd'].fill(dataset=dataset,pt=ptreco,m=msdreco)\n",
    "        output['r_pt_ptvm'].fill(dataset=dataset,pt=ptgen,m=mgen,r=ptreco_over_ptgen)\n",
    "        output['r_m_ptvm'].fill(dataset=dataset,pt=ptgen,m=mgen,r=mreco_over_mgen)\n",
    "        output['r_msd_ptvmsd'].fill(dataset=dataset,pt=ptgen,m=msdgen,r=msdreco_over_msdgen)\n",
    "\n",
    "        return output\n",
    "\n",
    "\n",
    "    def postprocess(self, accumulator):\n",
    "        return accumulator\n"
   ]
  },
  {
   "cell_type": "code",
   "execution_count": null,
   "metadata": {},
   "outputs": [
    {
     "data": {
      "application/vnd.jupyter.widget-view+json": {
       "model_id": "49c2f0b728764128bdc6cf76f1f579f7",
       "version_major": 2,
       "version_minor": 0
      },
      "text/plain": [
       "HBox(children=(IntProgress(value=0, description='Preprocessing', max=1, style=ProgressStyle(description_width=…"
      ]
     },
     "metadata": {},
     "output_type": "display_data"
    },
    {
     "name": "stdout",
     "output_type": "stream",
     "text": [
      "\n"
     ]
    },
    {
     "data": {
      "application/vnd.jupyter.widget-view+json": {
       "model_id": "9c9ef6f959704e49abdf3795b2dc73a5",
       "version_major": 2,
       "version_minor": 0
      },
      "text/plain": [
       "HBox(children=(IntProgress(value=0, description='Processing', max=194, style=ProgressStyle(description_width='…"
      ]
     },
     "metadata": {},
     "output_type": "display_data"
    },
    {
     "name": "stderr",
     "output_type": "stream",
     "text": [
      "/usr/local/jupyter/lib/python3.6/site-packages/uproot_methods/classes/TLorentzVector.py:189: RuntimeWarning: invalid value encountered in sqrt\n",
      "  return self._trymemo(\"mass\", lambda self: self.awkward.numpy.sqrt(self.mag2))\n",
      "/usr/local/jupyter/lib/python3.6/site-packages/ipykernel_launcher.py:95: RuntimeWarning: invalid value encountered in greater\n",
      "/usr/local/jupyter/lib/python3.6/site-packages/ipykernel_launcher.py:95: RuntimeWarning: divide by zero encountered in true_divide\n",
      "/usr/local/jupyter/lib/python3.6/site-packages/ipykernel_launcher.py:95: RuntimeWarning: invalid value encountered in true_divide\n",
      "/usr/local/jupyter/lib/python3.6/site-packages/uproot_methods/classes/TLorentzVector.py:189: RuntimeWarning: invalid value encountered in sqrt\n",
      "  return self._trymemo(\"mass\", lambda self: self.awkward.numpy.sqrt(self.mag2))\n",
      "/usr/local/jupyter/lib/python3.6/site-packages/ipykernel_launcher.py:95: RuntimeWarning: invalid value encountered in greater\n",
      "/usr/local/jupyter/lib/python3.6/site-packages/ipykernel_launcher.py:95: RuntimeWarning: divide by zero encountered in true_divide\n",
      "/usr/local/jupyter/lib/python3.6/site-packages/ipykernel_launcher.py:95: RuntimeWarning: invalid value encountered in true_divide\n",
      "/usr/local/jupyter/lib/python3.6/site-packages/uproot_methods/classes/TLorentzVector.py:189: RuntimeWarning: invalid value encountered in sqrt\n",
      "  return self._trymemo(\"mass\", lambda self: self.awkward.numpy.sqrt(self.mag2))\n",
      "/usr/local/jupyter/lib/python3.6/site-packages/ipykernel_launcher.py:95: RuntimeWarning: invalid value encountered in greater\n",
      "/usr/local/jupyter/lib/python3.6/site-packages/ipykernel_launcher.py:95: RuntimeWarning: divide by zero encountered in true_divide\n",
      "/usr/local/jupyter/lib/python3.6/site-packages/ipykernel_launcher.py:95: RuntimeWarning: invalid value encountered in true_divide\n",
      "/usr/local/jupyter/lib/python3.6/site-packages/uproot_methods/classes/TLorentzVector.py:189: RuntimeWarning: invalid value encountered in sqrt\n",
      "  return self._trymemo(\"mass\", lambda self: self.awkward.numpy.sqrt(self.mag2))\n",
      "/usr/local/jupyter/lib/python3.6/site-packages/ipykernel_launcher.py:95: RuntimeWarning: invalid value encountered in greater\n",
      "/usr/local/jupyter/lib/python3.6/site-packages/ipykernel_launcher.py:95: RuntimeWarning: divide by zero encountered in true_divide\n",
      "/usr/local/jupyter/lib/python3.6/site-packages/ipykernel_launcher.py:95: RuntimeWarning: invalid value encountered in true_divide\n"
     ]
    }
   ],
   "source": [
    "# Can grab a file on cmslpc from \n",
    "# /store/group/lpctlbsm/NanoAODJMAR_2019_V1/Production/CRAB/DYJetsToLL_M-50_TuneCUETP8M1_13TeV-madgraphMLM-pythia8/DYJetsToLLM-50TuneCUETP8M113TeV-madgraphMLM-pythia8RunIISummer16MiniAODv3-PUMoriond17_ext2-v2/190513_171710/0000/*.root\n",
    "\n",
    "#infiles = glob.glob('/mnt/data/cms/store/group/lpctlbsm/NanoAODJMAR_2019_V1/Production/CRAB/DYJetsToLL_M-50_TuneCUETP8M1_13TeV-madgraphMLM-pythia8/DYJetsToLLM-50TuneCUETP8M113TeV-madgraphMLM-pythia8RunIISummer16MiniAODv3-PUMoriond17_ext2-v2/190513_171710/0000/*.root')\n",
    "infiles = glob.glob('/mnt/data/cms/store/group/lpctlbsm/NanoAODJMAR_2019_V1/Production/CRAB/DYJetsToLL_M-50_TuneCUETP8M1_13TeV-madgraphMLM-pythia8/DYJetsToLLM-50TuneCUETP8M113TeV-madgraphMLM-pythia8RunIISummer16MiniAODv3-PUMoriond17_ext2-v2/190513_171710/*.root')\n",
    "\n",
    "fileset = {\"DY\":infiles}\n",
    "\n",
    "tstart = time.time() \n",
    "output = processor.run_uproot_job(fileset,\n",
    "                                  treename='Events',\n",
    "                                  processor_instance=JetMassProcessor(),\n",
    "                                  executor=processor.futures_executor,\n",
    "                                  executor_args={'workers':4, 'flatten': True},\n",
    "                                  chunksize=500000,\n",
    "                                 )\n",
    "\n",
    "\n",
    "elapsed = time.time() - tstart\n",
    "print(output)"
   ]
  },
  {
   "cell_type": "code",
   "execution_count": null,
   "metadata": {},
   "outputs": [],
   "source": [
    "import matplotlib.pyplot as plt"
   ]
  },
  {
   "cell_type": "code",
   "execution_count": null,
   "metadata": {},
   "outputs": [],
   "source": []
  },
  {
   "cell_type": "code",
   "execution_count": null,
   "metadata": {
    "scrolled": true
   },
   "outputs": [],
   "source": []
  },
  {
   "cell_type": "code",
   "execution_count": null,
   "metadata": {},
   "outputs": [],
   "source": [
    "# Set fonts (from https://stackoverflow.com/questions/3899980/how-to-change-the-font-size-on-a-matplotlib-plot)\n",
    "SMALL_SIZE = 14\n",
    "MEDIUM_SIZE = 18\n",
    "BIGGER_SIZE = 24\n",
    "\n",
    "plt.rc('font', size=SMALL_SIZE)          # controls default text sizes\n",
    "plt.rc('axes', titlesize=SMALL_SIZE)     # fontsize of the axes title\n",
    "plt.rc('axes', labelsize=MEDIUM_SIZE)    # fontsize of the x and y labels\n",
    "plt.rc('xtick', labelsize=SMALL_SIZE)    # fontsize of the tick labels\n",
    "plt.rc('ytick', labelsize=SMALL_SIZE)    # fontsize of the tick labels\n",
    "plt.rc('legend', fontsize=SMALL_SIZE)    # legend fontsize\n",
    "plt.rc('figure', titlesize=BIGGER_SIZE)  # fontsize of the figure title\n"
   ]
  },
  {
   "cell_type": "code",
   "execution_count": null,
   "metadata": {},
   "outputs": [],
   "source": [
    "#H2 = H.reshape( (len(ptbins)-1)*(len(mbins)-1), (len(ptbins)-1)*(len(mbins)-1) )"
   ]
  },
  {
   "cell_type": "code",
   "execution_count": null,
   "metadata": {},
   "outputs": [],
   "source": [
    "#plt.imshow(H2)"
   ]
  },
  {
   "cell_type": "code",
   "execution_count": null,
   "metadata": {},
   "outputs": [],
   "source": [
    "fig, ax = hist.plotgrid(output['pt'], overlay=\"dataset\", stack=False\n",
    "                                 )\n",
    "plt.yscale(\"log\")\n",
    "for iax in ax.flatten():\n",
    "    iax.autoscale(axis='y')\n",
    "fig.show()"
   ]
  },
  {
   "cell_type": "code",
   "execution_count": null,
   "metadata": {},
   "outputs": [],
   "source": [
    "fig, ax = hist.plotgrid(output['m'], overlay=\"dataset\", stack=False\n",
    "                                 )\n",
    "plt.yscale(\"log\")\n",
    "for iax in ax.flatten():\n",
    "    iax.autoscale(axis='y')\n",
    "fig.show()"
   ]
  },
  {
   "cell_type": "code",
   "execution_count": null,
   "metadata": {},
   "outputs": [],
   "source": [
    "for i in output['r_pt_ptvm'].axis('pt'):\n",
    "    for j in output['r_pt_ptvm'].axis('m'):\n",
    "        fig, ax = hist.plotgrid( output['r_pt_ptvm'].project('dataset').project('pt', the_slice=i).project('m', the_slice=j), stack=False)\n",
    "        plt.title(\"pt = %5.0f  m = %5.0f\" % (i.hi, j.hi) )\n",
    "\n"
   ]
  },
  {
   "cell_type": "code",
   "execution_count": null,
   "metadata": {},
   "outputs": [],
   "source": []
  },
  {
   "cell_type": "code",
   "execution_count": null,
   "metadata": {},
   "outputs": [],
   "source": []
  },
  {
   "cell_type": "code",
   "execution_count": null,
   "metadata": {},
   "outputs": [],
   "source": []
  },
  {
   "cell_type": "code",
   "execution_count": null,
   "metadata": {},
   "outputs": [],
   "source": []
  }
 ],
 "metadata": {
  "kernelspec": {
   "display_name": "Python 3",
   "language": "python",
   "name": "python3"
  },
  "language_info": {
   "codemirror_mode": {
    "name": "ipython",
    "version": 3
   },
   "file_extension": ".py",
   "mimetype": "text/x-python",
   "name": "python",
   "nbconvert_exporter": "python",
   "pygments_lexer": "ipython3",
   "version": "3.6.8"
  }
 },
 "nbformat": 4,
 "nbformat_minor": 2
}
