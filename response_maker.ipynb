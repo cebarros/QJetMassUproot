{
 "cells": [
  {
   "cell_type": "code",
   "execution_count": 1,
   "metadata": {},
   "outputs": [],
   "source": [
    "import uproot\n",
    "import uproot_methods\n",
    "import awkward\n",
    "import matplotlib.pyplot as plt\n",
    "import numpy as np\n",
    "import time\n",
    "import glob\n",
    "import concurrent.futures\n",
    "import json"
   ]
  },
  {
   "cell_type": "code",
   "execution_count": 2,
   "metadata": {},
   "outputs": [],
   "source": [
    "\n",
    "# Make 4 parallel threads\n",
    "executor = concurrent.futures.ThreadPoolExecutor(4)\n",
    "\n",
    "# Make a cache for uproot\n",
    "cache = {}"
   ]
  },
  {
   "cell_type": "code",
   "execution_count": null,
   "metadata": {},
   "outputs": [],
   "source": [
    "\n"
   ]
  },
  {
   "cell_type": "code",
   "execution_count": 3,
   "metadata": {},
   "outputs": [],
   "source": [
    "# Get the sample metadata\n",
    "samples = json.load( open('samples_dy.json') )\n"
   ]
  },
  {
   "cell_type": "code",
   "execution_count": 4,
   "metadata": {},
   "outputs": [],
   "source": [
    "#cache1 = {}\n",
    "#Ttest = uproot.open('/mnt/cms-data/store/group/lpctlbsm/NanoAODJMAR_2019_V1/Production/CRAB/DYJetsToLL_M-50_HT-800to1200_TuneCP5_13TeV-madgraphMLM-pythia8/DYJetsToLLM-50HT-800to1200TuneCP513TeV-madgraphMLM-pythia8RunIIFall17MiniAODv2-PU2017/190312_200548/0000/nano102x_on_mini94x_2017_mc_NANO_9.root')['Events']\n",
    "#Ttest.arrays(\"*\",cache=cache1)"
   ]
  },
  {
   "cell_type": "code",
   "execution_count": null,
   "metadata": {},
   "outputs": [],
   "source": []
  },
  {
   "cell_type": "code",
   "execution_count": 8,
   "metadata": {},
   "outputs": [
    {
     "name": "stdout",
     "output_type": "stream",
     "text": [
      "ptbins, mbins = 12 18\n",
      "processing sample:  {'name': 'DYJetsToLL_M-50_HT-70to100_TuneCP5_13TeV-madgraphMLM-pythia8', 'xsec': 143.0, 'nevents': 9344037.0}\n",
      "..............................."
     ]
    },
    {
     "ename": "TypeError",
     "evalue": "jagged index must be boolean (mask) or integer (fancy indexing)",
     "output_type": "error",
     "traceback": [
      "\u001b[0;31m---------------------------------------------------------------------------\u001b[0m",
      "\u001b[0;31mTypeError\u001b[0m                                 Traceback (most recent call last)",
      "\u001b[0;32m<ipython-input-8-b4123b803d88>\u001b[0m in \u001b[0;36m<module>\u001b[0;34m\u001b[0m\n\u001b[1;32m     44\u001b[0m             \u001b[0mindex_of_minimized\u001b[0m \u001b[0;34m=\u001b[0m \u001b[0mmetric\u001b[0m\u001b[0;34m.\u001b[0m\u001b[0margmin\u001b[0m\u001b[0;34m(\u001b[0m\u001b[0;34m)\u001b[0m\u001b[0;34m\u001b[0m\u001b[0;34m\u001b[0m\u001b[0m\n\u001b[1;32m     45\u001b[0m \u001b[0;34m\u001b[0m\u001b[0m\n\u001b[0;32m---> 46\u001b[0;31m         \u001b[0mpasses_cut\u001b[0m \u001b[0;34m=\u001b[0m \u001b[0;34m(\u001b[0m\u001b[0mmetric\u001b[0m\u001b[0;34m[\u001b[0m\u001b[0mindex_of_minimized\u001b[0m\u001b[0;34m]\u001b[0m \u001b[0;34m<\u001b[0m \u001b[0;36m0.4\u001b[0m\u001b[0;34m)\u001b[0m\u001b[0;34m\u001b[0m\u001b[0;34m\u001b[0m\u001b[0m\n\u001b[0m\u001b[1;32m     47\u001b[0m         \u001b[0mbest_pairings_that_pass_cut\u001b[0m \u001b[0;34m=\u001b[0m \u001b[0mpairing\u001b[0m\u001b[0;34m[\u001b[0m\u001b[0mindex_of_minimized\u001b[0m\u001b[0;34m]\u001b[0m\u001b[0;34m[\u001b[0m\u001b[0mpasses_cut\u001b[0m\u001b[0;34m]\u001b[0m\u001b[0;34m\u001b[0m\u001b[0;34m\u001b[0m\u001b[0m\n\u001b[1;32m     48\u001b[0m         \u001b[0mgenrecos\u001b[0m \u001b[0;34m=\u001b[0m \u001b[0mbest_pairings_that_pass_cut\u001b[0m\u001b[0;34m.\u001b[0m\u001b[0mflatten\u001b[0m\u001b[0;34m(\u001b[0m\u001b[0maxis\u001b[0m\u001b[0;34m=\u001b[0m\u001b[0;36m1\u001b[0m\u001b[0;34m)\u001b[0m\u001b[0;34m\u001b[0m\u001b[0;34m\u001b[0m\u001b[0m\n",
      "\u001b[0;32m/usr/local/jupyter/lib/python3.6/site-packages/awkward/array/jagged.py\u001b[0m in \u001b[0;36m__getitem__\u001b[0;34m(self, where)\u001b[0m\n\u001b[1;32m    498\u001b[0m \u001b[0;34m\u001b[0m\u001b[0m\n\u001b[1;32m    499\u001b[0m             \u001b[0;32mif\u001b[0m \u001b[0misinstance\u001b[0m\u001b[0;34m(\u001b[0m\u001b[0mself\u001b[0m\u001b[0;34m.\u001b[0m\u001b[0m_content\u001b[0m\u001b[0;34m,\u001b[0m \u001b[0mJaggedArray\u001b[0m\u001b[0;34m)\u001b[0m \u001b[0;32mand\u001b[0m \u001b[0misinstance\u001b[0m\u001b[0;34m(\u001b[0m\u001b[0mhead\u001b[0m\u001b[0;34m.\u001b[0m\u001b[0m_content\u001b[0m\u001b[0;34m,\u001b[0m \u001b[0mJaggedArray\u001b[0m\u001b[0;34m)\u001b[0m\u001b[0;34m:\u001b[0m\u001b[0;34m\u001b[0m\u001b[0;34m\u001b[0m\u001b[0m\n\u001b[0;32m--> 500\u001b[0;31m                 \u001b[0;32mreturn\u001b[0m \u001b[0mself\u001b[0m\u001b[0;34m.\u001b[0m\u001b[0mcopy\u001b[0m\u001b[0;34m(\u001b[0m\u001b[0mcontent\u001b[0m\u001b[0;34m=\u001b[0m\u001b[0mself\u001b[0m\u001b[0;34m.\u001b[0m\u001b[0m_content\u001b[0m\u001b[0;34m[\u001b[0m\u001b[0mhead\u001b[0m\u001b[0;34m.\u001b[0m\u001b[0m_content\u001b[0m\u001b[0;34m]\u001b[0m\u001b[0;34m)\u001b[0m\u001b[0;34m\u001b[0m\u001b[0;34m\u001b[0m\u001b[0m\n\u001b[0m\u001b[1;32m    501\u001b[0m \u001b[0;34m\u001b[0m\u001b[0m\n\u001b[1;32m    502\u001b[0m             \u001b[0;32melif\u001b[0m \u001b[0mself\u001b[0m\u001b[0;34m.\u001b[0m\u001b[0m_util_isintegertype\u001b[0m\u001b[0;34m(\u001b[0m\u001b[0mhead\u001b[0m\u001b[0;34m.\u001b[0m\u001b[0m_content\u001b[0m\u001b[0;34m.\u001b[0m\u001b[0mdtype\u001b[0m\u001b[0;34m.\u001b[0m\u001b[0mtype\u001b[0m\u001b[0;34m)\u001b[0m\u001b[0;34m:\u001b[0m\u001b[0;34m\u001b[0m\u001b[0;34m\u001b[0m\u001b[0m\n",
      "\u001b[0;32m/usr/local/jupyter/lib/python3.6/site-packages/awkward/array/jagged.py\u001b[0m in \u001b[0;36m__getitem__\u001b[0;34m(self, where)\u001b[0m\n\u001b[1;32m    544\u001b[0m \u001b[0;34m\u001b[0m\u001b[0m\n\u001b[1;32m    545\u001b[0m             \u001b[0;32melse\u001b[0m\u001b[0;34m:\u001b[0m\u001b[0;34m\u001b[0m\u001b[0;34m\u001b[0m\u001b[0m\n\u001b[0;32m--> 546\u001b[0;31m                 \u001b[0;32mraise\u001b[0m \u001b[0mTypeError\u001b[0m\u001b[0;34m(\u001b[0m\u001b[0;34m\"jagged index must be boolean (mask) or integer (fancy indexing)\"\u001b[0m\u001b[0;34m)\u001b[0m\u001b[0;34m\u001b[0m\u001b[0;34m\u001b[0m\u001b[0m\n\u001b[0m\u001b[1;32m    547\u001b[0m \u001b[0;34m\u001b[0m\u001b[0m\n\u001b[1;32m    548\u001b[0m         \u001b[0;32melse\u001b[0m\u001b[0;34m:\u001b[0m\u001b[0;34m\u001b[0m\u001b[0;34m\u001b[0m\u001b[0m\n",
      "\u001b[0;31mTypeError\u001b[0m: jagged index must be boolean (mask) or integer (fancy indexing)"
     ]
    }
   ],
   "source": [
    "\n",
    "jet_names = [b'FatJet_pt', b'FatJet_eta', b'FatJet_phi', b'FatJet_mass']\n",
    "gen_names = [b'GenJetAK8_pt', b'GenJetAK8_eta', b'GenJetAK8_phi', b'GenJetAK8_mass']\n",
    "#T = uproot.open(\"/uscms/home/rappocc/nobackup/analysis/B2G/CMSSW_10_2_9/src/Analysis/TTbarAllHad/test/QCD_Pt-15to7000_TuneCP5_Flat_13TeV_pythia8_RunIIFall17NanoAODv4_example.root\")[\"Events\"]\n",
    "rbins = [i * 0.01 for i in range(300)]\n",
    "ptbins = [170,200,250,300,350,400,500,600,700,800,900,1000]\n",
    "mbins = [0,5,10,15,20,25,30,35,40,50,60,70,80,90,100,150,300,1000]\n",
    "print(\"ptbins, mbins =\", len(ptbins), len(mbins))\n",
    "hists = []\n",
    "\n",
    "start_time = time.perf_counter()\n",
    "nev = 0\n",
    "\n",
    "prefix = '/mnt/cms-data/store/group/lpctlbsm/NanoAODJMAR_2019_V1/Production/CRAB/'\n",
    "\n",
    "for sample in samples[\"samples\"]:    \n",
    "    name, xsec, nevents = sample['name'], sample['xsec'], sample['nevents']\n",
    "    files = glob.glob(prefix + name + '/*/*/*/*.root')\n",
    "    \n",
    "    weight = xsec / nevents\n",
    "    print (\"processing sample: \", sample )\n",
    "\n",
    "    for T in uproot.iterate(files, 'Events', jet_names + gen_names, cache=cache,\n",
    "                            entrysteps=500000,executor=executor):\n",
    "\n",
    "        Jet_pt,Jet_eta,Jet_phi,Jet_mass = [ T.pop(i) for i in jet_names]\n",
    "        GenJet_pt,GenJet_eta,GenJet_phi,GenJet_mass = [ T.pop(i) for i in gen_names]\n",
    "        print('.',end='')\n",
    "        #print(nev)\n",
    "        \n",
    "        jets = uproot_methods.TLorentzVectorArray.from_ptetaphim(Jet_pt, Jet_eta, Jet_phi, Jet_mass)\n",
    "        genjets = uproot_methods.TLorentzVectorArray.from_ptetaphim(GenJet_pt, GenJet_eta, GenJet_phi, GenJet_mass)\n",
    "\n",
    "        onejet = jets.counts > 0\n",
    "        onegen = genjets.counts > 0\n",
    "        goodjets_index = (jets.pt > 170.)\n",
    "        goodgens_index = (genjets.pt > 50.)\n",
    "        goodjets = jets[onejet & onegen & goodjets_index]\n",
    "        goodgens = genjets[onejet & onegen & goodgens_index]        \n",
    "        pairing = goodjets.cross(goodgens, nested=True)\n",
    "        \n",
    "        metric = pairing.i1.delta_r(pairing.i0)\n",
    "        if metric.size > 0:        \n",
    "            index_of_minimized = metric.argmin()\n",
    "        \n",
    "        passes_cut = (metric[index_of_minimized] < 0.4)\n",
    "        best_pairings_that_pass_cut = pairing[index_of_minimized][passes_cut]\n",
    "        genrecos = best_pairings_that_pass_cut.flatten(axis=1)\n",
    "\n",
    "        ptresponse = genrecos.i0.pt / genrecos.i1.pt\n",
    "        vals = np.array([genrecos.i1.pt.flatten(),\n",
    "                           genrecos.i1.mass.flatten(),\n",
    "                           genrecos.i0.pt.flatten(),\n",
    "                           genrecos.i0.mass.flatten()\n",
    "                          ]\n",
    "                         )\n",
    "        \n",
    "        weights = np.full( vals[0].shape, weight )\n",
    "        bins = (ptbins,mbins,ptbins,mbins)\n",
    "        H,edges=np.histogramdd( vals.T, \n",
    "                               bins=bins, weights=weights)\n",
    "        hists.append(H)\n",
    "        nev += 1\n",
    "    \n",
    "cpu_time = time.perf_counter() - start_time\n",
    "print ('Processing time: ', cpu_time, ',  nev: ', nev) "
   ]
  },
  {
   "cell_type": "code",
   "execution_count": 5,
   "metadata": {},
   "outputs": [],
   "source": [
    "# Set fonts (from https://stackoverflow.com/questions/3899980/how-to-change-the-font-size-on-a-matplotlib-plot)\n",
    "SMALL_SIZE = 14\n",
    "MEDIUM_SIZE = 18\n",
    "BIGGER_SIZE = 24\n",
    "\n",
    "plt.rc('font', size=SMALL_SIZE)          # controls default text sizes\n",
    "plt.rc('axes', titlesize=SMALL_SIZE)     # fontsize of the axes title\n",
    "plt.rc('axes', labelsize=MEDIUM_SIZE)    # fontsize of the x and y labels\n",
    "plt.rc('xtick', labelsize=SMALL_SIZE)    # fontsize of the tick labels\n",
    "plt.rc('ytick', labelsize=SMALL_SIZE)    # fontsize of the tick labels\n",
    "plt.rc('legend', fontsize=SMALL_SIZE)    # legend fontsize\n",
    "plt.rc('figure', titlesize=BIGGER_SIZE)  # fontsize of the figure title\n"
   ]
  },
  {
   "cell_type": "code",
   "execution_count": 6,
   "metadata": {},
   "outputs": [],
   "source": [
    "H2 = H.reshape( (len(ptbins)-1)*(len(mbins)-1), (len(ptbins)-1)*(len(mbins)-1) )"
   ]
  },
  {
   "cell_type": "code",
   "execution_count": 7,
   "metadata": {},
   "outputs": [
    {
     "data": {
      "text/plain": [
       "<matplotlib.image.AxesImage at 0x7f86a40c8fd0>"
      ]
     },
     "execution_count": 7,
     "metadata": {},
     "output_type": "execute_result"
    },
    {
     "data": {
      "image/png": "[encoded data removed]",
      "text/plain": [
       "<Figure size 432x288 with 1 Axes>"
      ]
     },
     "metadata": {
      "needs_background": "light"
     },
     "output_type": "display_data"
    }
   ],
   "source": [
    "plt.imshow(H2)"
   ]
  },
  {
   "cell_type": "code",
   "execution_count": null,
   "metadata": {},
   "outputs": [],
   "source": []
  },
  {
   "cell_type": "code",
   "execution_count": null,
   "metadata": {},
   "outputs": [],
   "source": []
  }
 ],
 "metadata": {
  "kernelspec": {
   "display_name": "Python 3",
   "language": "python",
   "name": "python3"
  },
  "language_info": {
   "codemirror_mode": {
    "name": "ipython",
    "version": 3
   },
   "file_extension": ".py",
   "mimetype": "text/x-python",
   "name": "python",
   "nbconvert_exporter": "python",
   "pygments_lexer": "ipython3",
   "version": "3.6.8"
  }
 },
 "nbformat": 4,
 "nbformat_minor": 2
}
