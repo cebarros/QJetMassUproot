{
 "cells": [
  {
   "cell_type": "code",
   "execution_count": 1,
   "metadata": {},
   "outputs": [],
   "source": [
    "import uproot\n",
    "import uproot_methods\n",
    "import awkward\n",
    "import matplotlib.pyplot as plt\n",
    "import numpy as np\n",
    "import time\n",
    "import glob"
   ]
  },
  {
   "cell_type": "code",
   "execution_count": 2,
   "metadata": {},
   "outputs": [],
   "source": [
    "files = glob.glob('/mnt/cms-data/store/group/lpctlbsm/NanoAODJMAR_2019_V1/Production/CRAB/DYJetsToLL_M-50_HT-100to200_TuneCP5_13TeV-madgraphMLM-pythia8/DYJetsToLLM-50HT-100to200TuneCP513TeV-madgraphMLM-pythia8RunIIFall17MiniAODv2-PU201712Apr2018/190312_200205/0000/*.root')"
   ]
  },
  {
   "cell_type": "code",
   "execution_count": 3,
   "metadata": {},
   "outputs": [
    {
     "name": "stdout",
     "output_type": "stream",
     "text": [
      "ptbins, mbins = 20 18\n",
      "Iterating nev =  0\n",
      "Processing time:  0.668648699996993 ,  nev:  1\n"
     ]
    }
   ],
   "source": [
    "\n",
    "jet_names = [b'FatJet_pt', b'FatJet_eta', b'FatJet_phi', b'FatJet_mass']\n",
    "gen_names = [b'GenJetAK8_pt', b'GenJetAK8_eta', b'GenJetAK8_phi', b'GenJetAK8_mass']\n",
    "#T = uproot.open(\"/uscms/home/rappocc/nobackup/analysis/B2G/CMSSW_10_2_9/src/Analysis/TTbarAllHad/test/QCD_Pt-15to7000_TuneCP5_Flat_13TeV_pythia8_RunIIFall17NanoAODv4_example.root\")[\"Events\"]\n",
    "rbins = [i * 0.01 for i in range(300)]\n",
    "ptbins = [10,20,30,40,50,60,80,100,150,200,250,300,350,400,500,600,700,800,900,1000]\n",
    "mbins = [0,5,10,15,20,25,30,35,40,50,60,70,80,90,100,150,300,1000]\n",
    "print(\"ptbins, mbins =\", len(ptbins), len(mbins))\n",
    "hists = []\n",
    "start_time = time.perf_counter()\n",
    "nev = 0\n",
    "for T in uproot.iterate(files, 'Events', jet_names + gen_names): #, entrysteps=10000):\n",
    "\n",
    "    print ('Iterating nev = ', nev)\n",
    "    Jet_pt,Jet_eta,Jet_phi,Jet_mass = [ T[i] for i in jet_names]\n",
    "    GenJet_pt,GenJet_eta,GenJet_phi,GenJet_mass = [ T[i] for i in gen_names]\n",
    "\n",
    "\n",
    "    jets = uproot_methods.TLorentzVectorArray.from_ptetaphim(Jet_pt, Jet_eta, Jet_phi, Jet_mass)\n",
    "    genjets = uproot_methods.TLorentzVectorArray.from_ptetaphim(GenJet_pt, GenJet_eta, GenJet_phi, GenJet_mass)\n",
    "    \n",
    "    \n",
    "    goodjets_index = jets.pt > 30.\n",
    "    goodgens_index = genjets.pt > 10.\n",
    "    goodjets = jets[goodjets_index]\n",
    "    goodgens = genjets[goodgens_index]    \n",
    "    \n",
    "    pairing = goodjets.cross(goodgens, nested=True)\n",
    "    metric = pairing.i0.delta_r(pairing.i1)\n",
    "    index_of_minimized = metric.argmin()\n",
    "    passes_cut = (metric[index_of_minimized] < 0.4)\n",
    "    best_pairings_that_pass_cut = pairing[index_of_minimized][passes_cut]\n",
    "    genrecos = best_pairings_that_pass_cut.flatten(axis=1)\n",
    "    \n",
    "    #ptresponse = genrecos.i0.pt / genrecos.i1.pt\n",
    "    vals = np.array([genrecos.i1.pt.flatten(),\n",
    "                       genrecos.i1.mass.flatten(),\n",
    "                       genrecos.i0.pt.flatten(),\n",
    "                       genrecos.i0.mass.flatten()\n",
    "                      ]\n",
    "                     )\n",
    "    bins = (ptbins,mbins,ptbins,mbins)\n",
    "    H,edges=np.histogramdd( vals.T, \n",
    "                           bins=bins)\n",
    "    hists.append(H)\n",
    "    nev += 1\n",
    "    \n",
    "cpu_time = time.perf_counter() - start_time\n",
    "print ('Processing time: ', cpu_time, ',  nev: ', nev) "
   ]
  },
  {
   "cell_type": "code",
   "execution_count": 4,
   "metadata": {},
   "outputs": [],
   "source": [
    "# Set fonts (from https://stackoverflow.com/questions/3899980/how-to-change-the-font-size-on-a-matplotlib-plot)\n",
    "SMALL_SIZE = 14\n",
    "MEDIUM_SIZE = 18\n",
    "BIGGER_SIZE = 24\n",
    "\n",
    "plt.rc('font', size=SMALL_SIZE)          # controls default text sizes\n",
    "plt.rc('axes', titlesize=SMALL_SIZE)     # fontsize of the axes title\n",
    "plt.rc('axes', labelsize=MEDIUM_SIZE)    # fontsize of the x and y labels\n",
    "plt.rc('xtick', labelsize=SMALL_SIZE)    # fontsize of the tick labels\n",
    "plt.rc('ytick', labelsize=SMALL_SIZE)    # fontsize of the tick labels\n",
    "plt.rc('legend', fontsize=SMALL_SIZE)    # legend fontsize\n",
    "plt.rc('figure', titlesize=BIGGER_SIZE)  # fontsize of the figure title\n"
   ]
  },
  {
   "cell_type": "code",
   "execution_count": 5,
   "metadata": {},
   "outputs": [],
   "source": [
    "H2 = H.reshape( (len(ptbins)-1)*(len(mbins)-1), (len(ptbins)-1)*(len(mbins)-1) )"
   ]
  },
  {
   "cell_type": "code",
   "execution_count": 6,
   "metadata": {},
   "outputs": [
    {
     "data": {
      "text/plain": [
       "<matplotlib.image.AxesImage at 0x7f33a0d8ad30>"
      ]
     },
     "execution_count": 6,
     "metadata": {},
     "output_type": "execute_result"
    },
    {
     "data": {
      "image/png": "[encoded data removed]",
      "text/plain": [
       "<Figure size 432x288 with 1 Axes>"
      ]
     },
     "metadata": {
      "needs_background": "light"
     },
     "output_type": "display_data"
    }
   ],
   "source": [
    "plt.imshow(H2)"
   ]
  },
  {
   "cell_type": "code",
   "execution_count": null,
   "metadata": {},
   "outputs": [],
   "source": []
  }
 ],
 "metadata": {
  "kernelspec": {
   "display_name": "Python 3",
   "language": "python",
   "name": "python3"
  },
  "language_info": {
   "codemirror_mode": {
    "name": "ipython",
    "version": 3
   },
   "file_extension": ".py",
   "mimetype": "text/x-python",
   "name": "python",
   "nbconvert_exporter": "python",
   "pygments_lexer": "ipython3",
   "version": "3.6.8"
  }
 },
 "nbformat": 4,
 "nbformat_minor": 2
}
