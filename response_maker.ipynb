{
 "cells": [
  {
   "cell_type": "code",
   "execution_count": 1,
   "metadata": {},
   "outputs": [],
   "source": [
    "import uproot\n",
    "import uproot_methods\n",
    "import awkward\n",
    "import matplotlib.pyplot as plt\n",
    "import numpy as np\n",
    "import time\n",
    "import glob"
   ]
  },
  {
   "cell_type": "code",
   "execution_count": 2,
   "metadata": {},
   "outputs": [],
   "source": [
    "files = glob.glob('/mnt/cms-data/store/group/lpctlbsm/NanoAODJMAR_2019_V1/Production/CRAB/DYJetsToLL_M-50_HT-800to1200_TuneCP5_13TeV-madgraphMLM-pythia8/DYJetsToLLM-50HT-800to1200TuneCP513TeV-madgraphMLM-pythia8RunIIFall17MiniAODv2-PU2017/190312_200548/0000/*.root')"
   ]
  },
  {
   "cell_type": "code",
   "execution_count": 3,
   "metadata": {},
   "outputs": [],
   "source": [
    "test = uproot.open(\"/mnt/cms-data/store/group/lpctlbsm/NanoAODJMAR_2019_V1/Production/CRAB/DYJetsToLL_M-50_HT-800to1200_TuneCP5_13TeV-madgraphMLM-pythia8/DYJetsToLLM-50HT-800to1200TuneCP513TeV-madgraphMLM-pythia8RunIIFall17MiniAODv2-PU2017/190312_200548/0000/nano102x_on_mini94x_2017_mc_NANO_8.root\")['Events']"
   ]
  },
  {
   "cell_type": "code",
   "execution_count": 4,
   "metadata": {},
   "outputs": [
    {
     "name": "stdout",
     "output_type": "stream",
     "text": [
      "[b'nGenJetAK8', b'GenJetAK8_eta', b'GenJetAK8_mass', b'GenJetAK8_phi', b'GenJetAK8_pt', b'nGenJet', b'GenJet_eta', b'GenJet_mass', b'GenJet_phi', b'GenJet_pt', b'nGenPartAK8', b'GenPartAK8_eta', b'GenPartAK8_mass', b'GenPartAK8_phi', b'GenPartAK8_pt', b'GenPartAK8_charge', b'GenPartAK8_pdgId', b'nGenPart', b'GenPart_eta', b'GenPart_mass', b'GenPart_phi', b'GenPart_pt', b'GenPart_genPartIdxMother', b'GenPart_pdgId', b'GenPart_status', b'GenPart_statusFlags', b'nSubGenJetAK8', b'SubGenJetAK8_eta', b'SubGenJetAK8_mass', b'SubGenJetAK8_phi', b'SubGenJetAK8_pt', b'Generator_binvar', b'Generator_scalePDF', b'Generator_weight', b'Generator_x1', b'Generator_x2', b'Generator_xpdf1', b'Generator_xpdf2', b'Generator_id1', b'Generator_id2', b'nGenVisTau', b'GenVisTau_eta', b'GenVisTau_mass', b'GenVisTau_phi', b'GenVisTau_pt', b'GenVisTau_charge', b'GenVisTau_genPartIdxMother', b'GenVisTau_status', b'GenMET_phi', b'GenMET_pt', b'nGenDressedLepton', b'GenDressedLepton_eta', b'GenDressedLepton_mass', b'GenDressedLepton_phi', b'GenDressedLepton_pt', b'GenDressedLepton_pdgId', b'GenJetAK8_partonFlavour', b'GenJetAK8_hadronFlavour', b'GenJet_partonFlavour', b'GenJet_hadronFlavour', b'MET_fiducialGenPhi', b'MET_fiducialGenPt']\n"
     ]
    }
   ],
   "source": [
    "print( [i for i in test.keys() if b'Gen' in i] )"
   ]
  },
  {
   "cell_type": "code",
   "execution_count": 6,
   "metadata": {},
   "outputs": [
    {
     "name": "stdout",
     "output_type": "stream",
     "text": [
      "Processing time:  162.54620751499988 ,  nev:  329\n"
     ]
    }
   ],
   "source": [
    "\n",
    "jet_names = [b'FatJet_pt', b'FatJet_eta', b'FatJet_phi', b'FatJet_mass']\n",
    "gen_names = [b'GenJetAK8_pt', b'GenJetAK8_eta', b'GenJetAK8_phi', b'GenJetAK8_mass']\n",
    "#T = uproot.open(\"/uscms/home/rappocc/nobackup/analysis/B2G/CMSSW_10_2_9/src/Analysis/TTbarAllHad/test/QCD_Pt-15to7000_TuneCP5_Flat_13TeV_pythia8_RunIIFall17NanoAODv4_example.root\")[\"Events\"]\n",
    "rbins = [i * 0.01 for i in range(300)]\n",
    "ptbins = [10,20,30,40,50,60,80,100,150,200,250,300,350,400,500,600,700,800,900,1000]\n",
    "hists = []\n",
    "start_time = time.perf_counter()\n",
    "nev = 0\n",
    "for T in uproot.iterate(files, 'Events', jet_names + gen_names, entrysteps=10000):\n",
    "\n",
    "    Jet_pt,Jet_eta,Jet_phi,Jet_mass = [ T[i] for i in jet_names]\n",
    "    GenJet_pt,GenJet_eta,GenJet_phi,GenJet_mass = [ T[i] for i in gen_names]\n",
    "\n",
    "\n",
    "    jets = uproot_methods.TLorentzVectorArray.from_ptetaphim(Jet_pt, Jet_eta, Jet_phi, Jet_mass)\n",
    "    genjets = uproot_methods.TLorentzVectorArray.from_ptetaphim(GenJet_pt, GenJet_eta, GenJet_phi, GenJet_mass)\n",
    "    \n",
    "    \n",
    "    goodjets_index = jets.pt > 30.\n",
    "    goodgens_index = genjets.pt > 10.\n",
    "    goodjets = jets[goodjets_index]\n",
    "    goodgens = genjets[goodgens_index]    \n",
    "    \n",
    "    pairing = goodjets.cross(goodgens, nested=True)\n",
    "    metric = pairing.i0.delta_r(pairing.i1)\n",
    "    index_of_minimized = metric.argmin()\n",
    "    passes_cut = (metric[index_of_minimized] < 0.4)\n",
    "    best_pairings_that_pass_cut = pairing[index_of_minimized][passes_cut]\n",
    "    genrecos = best_pairings_that_pass_cut.flatten(axis=1)\n",
    "    \n",
    "\n",
    "    ptresponse = genrecos.i0.pt / genrecos.i1.pt\n",
    "    H,xedges,yedges=np.histogram2d(x=genrecos.i1.pt.flatten(), y=ptresponse.flatten(), bins=[ptbins,rbins])\n",
    "    hists.append(H)\n",
    "    nev += 1\n",
    "    \n",
    "cpu_time = time.perf_counter() - start_time\n",
    "print ('Processing time: ', cpu_time, ',  nev: ', nev) "
   ]
  },
  {
   "cell_type": "code",
   "execution_count": 7,
   "metadata": {},
   "outputs": [],
   "source": [
    "# Set fonts (from https://stackoverflow.com/questions/3899980/how-to-change-the-font-size-on-a-matplotlib-plot)\n",
    "SMALL_SIZE = 14\n",
    "MEDIUM_SIZE = 18\n",
    "BIGGER_SIZE = 24\n",
    "\n",
    "plt.rc('font', size=SMALL_SIZE)          # controls default text sizes\n",
    "plt.rc('axes', titlesize=SMALL_SIZE)     # fontsize of the axes title\n",
    "plt.rc('axes', labelsize=MEDIUM_SIZE)    # fontsize of the x and y labels\n",
    "plt.rc('xtick', labelsize=SMALL_SIZE)    # fontsize of the tick labels\n",
    "plt.rc('ytick', labelsize=SMALL_SIZE)    # fontsize of the tick labels\n",
    "plt.rc('legend', fontsize=SMALL_SIZE)    # legend fontsize\n",
    "plt.rc('figure', titlesize=BIGGER_SIZE)  # fontsize of the figure title\n"
   ]
  },
  {
   "cell_type": "code",
   "execution_count": 9,
   "metadata": {},
   "outputs": [
    {
     "data": {
      "text/plain": [
       "<matplotlib.collections.QuadMesh at 0x7fb599027c88>"
      ]
     },
     "execution_count": 9,
     "metadata": {},
     "output_type": "execute_result"
    },
    {
     "data": {
      "image/png": "[encoded data removed]",
      "text/plain": [
       "<Figure size 1080x1080 with 1 Axes>"
      ]
     },
     "metadata": {
      "needs_background": "light"
     },
     "output_type": "display_data"
    }
   ],
   "source": [
    "hist = sum( hists )\n",
    "X,Y=np.meshgrid(xedges,yedges)\n",
    "\n",
    "fig = plt.figure(figsize=(15,15))\n",
    "ax = fig.add_subplot(111)\n",
    "X, Y = np.meshgrid(xedges, yedges)\n",
    "ax.pcolormesh(X, Y, hist.T)"
   ]
  },
  {
   "cell_type": "code",
   "execution_count": null,
   "metadata": {},
   "outputs": [],
   "source": []
  }
 ],
 "metadata": {
  "kernelspec": {
   "display_name": "Python 3",
   "language": "python",
   "name": "python3"
  },
  "language_info": {
   "codemirror_mode": {
    "name": "ipython",
    "version": 3
   },
   "file_extension": ".py",
   "mimetype": "text/x-python",
   "name": "python",
   "nbconvert_exporter": "python",
   "pygments_lexer": "ipython3",
   "version": "3.6.8"
  }
 },
 "nbformat": 4,
 "nbformat_minor": 2
}
