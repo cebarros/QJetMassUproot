{
 "cells": [
  {
   "cell_type": "markdown",
   "metadata": {},
   "source": [
    "# Opening Files and Plotting Data"
   ]
  },
  {
   "cell_type": "code",
   "execution_count": 1,
   "metadata": {
    "tags": []
   },
   "outputs": [],
   "source": [
    "import awkward as ak\n",
    "import numpy as np\n",
    "import coffea\n",
    "import uproot\n",
    "import hist\n",
    "import vector\n",
    "from coffea import util, processor\n",
    "from coffea.nanoevents import NanoEventsFactory, NanoAODSchema, BaseSchema\n",
    "from dask.distributed import Client\n",
    "import matplotlib.pyplot as plt"
   ]
  },
  {
   "cell_type": "markdown",
   "metadata": {},
   "source": [
    "### Data Analysis with Plain Uproot\n",
    "\n",
    "The ROOT files to be analyzed are in the text files located in the `data` folder. The `DYJets...` files contain the MC generated data, while the `EGamma...`, `SingleElectron...`, and `SingleMuon...` files have the reconstructed data. Lets look at some of these. To begin with, let's look at a MC ROOT file and open it with nothng but Uproot. The documentation for this library can be found here [**(Uproot)**](https://uproot.readthedocs.io/en/latest/index.html#). "
   ]
  },
  {
   "cell_type": "code",
   "execution_count": 2,
   "metadata": {
    "tags": []
   },
   "outputs": [
    {
     "data": {
      "text/plain": [
       "<ReadOnlyDirectory '/' at 0x7f10bc839340>"
      ]
     },
     "execution_count": 2,
     "metadata": {},
     "output_type": "execute_result"
    }
   ],
   "source": [
    "#gen_file = uproot.open(\"skhep_testdata/data/nanoAOD_2015_CMS_Open_Data_ttbar.root\")\n",
    "#gen_file = uproot.open(\"root://xcache//store/mc/RunIISummer20UL16NanoAODv9/DYJetsToLL_M-50_HT-100to200_TuneCP5_PSweights_13TeV-madgraphMLM-pythia8/NANOAODSIM/106X_mcRun2_asymptotic_v17-v2/260000/18D0A087-30BD-FE4E-B447-5F493C2D2794.root\")\n",
    "gen_file = uproot.open(\"root://cmsxrootd.fnal.gov//store/mc/RunIISummer20UL16NanoAODv9/DYJetsToLL_M-50_HT-100to200_TuneCP5_PSweights_13TeV-madgraphMLM-pythia8/NANOAODSIM/106X_mcRun2_asymptotic_v17-v2/260000/18D0A087-30BD-FE4E-B447-5F493C2D2794.root\")\n",
    "gen_file"
   ]
  },
  {
   "cell_type": "markdown",
   "metadata": {},
   "source": [
    "Note that when working in Coffea-casa the redirector is `root://xcache/` while when working on the LPC it would be `root://cmsxrootd.fnal.gov/`. Once our data is loaded, we have a tree object that has the features of a Python dictionary. Its keys are:"
   ]
  },
  {
   "cell_type": "code",
   "execution_count": 3,
   "metadata": {
    "tags": []
   },
   "outputs": [
    {
     "data": {
      "text/plain": [
       "['tag;1',\n",
       " 'Events;1',\n",
       " 'LuminosityBlocks;1',\n",
       " 'Runs;1',\n",
       " 'MetaData;1',\n",
       " 'ParameterSets;1']"
      ]
     },
     "execution_count": 3,
     "metadata": {},
     "output_type": "execute_result"
    }
   ],
   "source": [
    "gen_file.keys()"
   ]
  },
  {
   "cell_type": "markdown",
   "metadata": {},
   "source": [
    "Using the `classname()` method we see that our file has multiple trees. Let's examine the branches of `Events`:"
   ]
  },
  {
   "cell_type": "code",
   "execution_count": 4,
   "metadata": {
    "tags": []
   },
   "outputs": [
    {
     "data": {
      "text/plain": [
       "{'tag;1': 'TObjString',\n",
       " 'Events;1': 'TTree',\n",
       " 'LuminosityBlocks;1': 'TTree',\n",
       " 'Runs;1': 'TTree',\n",
       " 'MetaData;1': 'TTree',\n",
       " 'ParameterSets;1': 'TTree'}"
      ]
     },
     "execution_count": 4,
     "metadata": {},
     "output_type": "execute_result"
    }
   ],
   "source": [
    "gen_file.classnames()"
   ]
  },
  {
   "cell_type": "code",
   "execution_count": 5,
   "metadata": {
    "tags": []
   },
   "outputs": [
    {
     "data": {
      "text/plain": [
       "<TTree 'Events' (1504 branches) at 0x7f10bc852490>"
      ]
     },
     "execution_count": 5,
     "metadata": {},
     "output_type": "execute_result"
    }
   ],
   "source": [
    "gen_tree = gen_file[\"Events\"]\n",
    "gen_tree"
   ]
  },
  {
   "cell_type": "code",
   "execution_count": 6,
   "metadata": {},
   "outputs": [
    {
     "data": {
      "text/plain": [
       "57804"
      ]
     },
     "execution_count": 6,
     "metadata": {},
     "output_type": "execute_result"
    }
   ],
   "source": [
    "gen_tree.num_entries"
   ]
  },
  {
   "cell_type": "markdown",
   "metadata": {},
   "source": [
    "A convenient method to use is `show()`, which gives all the keys in `mc_tree` plus extra information. However, since there are 1504 keys (i.e. branches), we should filter them to clear up our analysis. Some filters we can use are `filter_name`, `filter_typename`, and `filter_branch`. Let's filter with the former:"
   ]
  },
  {
   "cell_type": "code",
   "execution_count": 7,
   "metadata": {
    "tags": []
   },
   "outputs": [
    {
     "name": "stdout",
     "output_type": "stream",
     "text": [
      "name                 | typename                 | interpretation                \n",
      "---------------------+--------------------------+-------------------------------\n",
      "Electron_eta         | float[]                  | AsJagged(AsDtype('>f4'))\n",
      "Electron_mass        | float[]                  | AsJagged(AsDtype('>f4'))\n",
      "Electron_phi         | float[]                  | AsJagged(AsDtype('>f4'))\n",
      "Electron_pt          | float[]                  | AsJagged(AsDtype('>f4'))\n",
      "Electron_charge      | int32_t[]                | AsJagged(AsDtype('>i4'))\n",
      "Muon_eta             | float[]                  | AsJagged(AsDtype('>f4'))\n",
      "Muon_mass            | float[]                  | AsJagged(AsDtype('>f4'))\n",
      "Muon_phi             | float[]                  | AsJagged(AsDtype('>f4'))\n",
      "Muon_pt              | float[]                  | AsJagged(AsDtype('>f4'))\n",
      "Muon_ptErr           | float[]                  | AsJagged(AsDtype('>f4'))\n",
      "Muon_charge          | int32_t[]                | AsJagged(AsDtype('>i4'))\n"
     ]
    }
   ],
   "source": [
    "gen_tree.show(filter_name=[\"/(Electron|Muon)_pt/\", \"/(Electron|Muon)_phi/\", \"/(Electron|Muon)_eta/\", \"/(Electron|Muon)_mass/\", \"/(Electron|Muon)_charge/\"])"
   ]
  },
  {
   "cell_type": "markdown",
   "metadata": {},
   "source": [
    "The `arrays()` method returns a group of arrays from the tree branches. We can use it to construct the kinematics of the electron and muon: "
   ]
  },
  {
   "cell_type": "code",
   "execution_count": 8,
   "metadata": {
    "tags": []
   },
   "outputs": [
    {
     "name": "stdout",
     "output_type": "stream",
     "text": [
      "[{Electron_pt: [46.4, 11.2], Electron_phi: [-1.73, ... Electron_charge: [-1]}]\n",
      "[{Muon_pt: [], Muon_phi: [], Muon_eta: [], ... Muon_mass: [], Muon_charge: []}]\n"
     ]
    }
   ],
   "source": [
    "gen_electron_kinematics = gen_tree.arrays([\"Electron_pt\", \"Electron_phi\", \"Electron_eta\", \"Electron_mass\", \"Electron_charge\"])\n",
    "gen_muon_kinematics = gen_tree.arrays([\"Muon_pt\", \"Muon_phi\", \"Muon_eta\", \"Muon_mass\", \"Muon_charge\"])\n",
    "\n",
    "print(gen_electron_kinematics)\n",
    "print(gen_muon_kinematics)"
   ]
  },
  {
   "cell_type": "markdown",
   "metadata": {},
   "source": [
    "Now we can use Awkward to perform some analysis. For example, we can check to see that the number of subarrays in the electron and muon branches are equal; we can also check the total number of electrons and muons in each branch. Documentation for this library can be found here [**(Awkward)**](https://awkward-array.org/doc/main/index.html)."
   ]
  },
  {
   "cell_type": "code",
   "execution_count": 9,
   "metadata": {
    "tags": []
   },
   "outputs": [
    {
     "name": "stdout",
     "output_type": "stream",
     "text": [
      "Subarrays in electron branch: 57804\n",
      "Subarrays in muon branch: 57804\n"
     ]
    }
   ],
   "source": [
    "print(f\"Subarrays in electron branch: {ak.num(gen_electron_kinematics.Electron_pt, axis=0)}\")\n",
    "print(f\"Subarrays in muon branch: {ak.num(gen_muon_kinematics.Muon_pt, axis=0)}\")"
   ]
  },
  {
   "cell_type": "code",
   "execution_count": 10,
   "metadata": {
    "tags": []
   },
   "outputs": [
    {
     "name": "stdout",
     "output_type": "stream",
     "text": [
      "Total number of electrons: 55659\n",
      "Total number of muons: 43850\n"
     ]
    }
   ],
   "source": [
    "print(f\"Total number of electrons: {ak.sum(ak.num(gen_electron_kinematics.Electron_pt, axis=-1))}\")\n",
    "print(f\"Total number of muons: {ak.sum(ak.num(gen_muon_kinematics.Muon_pt, axis=-1))}\")"
   ]
  },
  {
   "cell_type": "markdown",
   "metadata": {},
   "source": [
    "We can also see the first few subarrays of each brach using slice notation, where the number of elements in each subarray will be the number of particles."
   ]
  },
  {
   "cell_type": "code",
   "execution_count": 11,
   "metadata": {
    "tags": []
   },
   "outputs": [
    {
     "data": {
      "text/plain": [
       "[{'Electron_pt': [46.35100555419922, 11.204719543457031],\n",
       "  'Electron_phi': [-1.73193359375, 1.875244140625],\n",
       "  'Electron_eta': [0.6239013671875, 1.4326171875],\n",
       "  'Electron_mass': [-0.01036834716796875, 0.003875732421875],\n",
       "  'Electron_charge': [-1, -1]},\n",
       " {'Electron_pt': [96.58295440673828, 11.642792701721191],\n",
       "  'Electron_phi': [1.446044921875, -2.50537109375],\n",
       "  'Electron_eta': [0.4996337890625, 2.31201171875],\n",
       "  'Electron_mass': [-0.034637451171875, -0.01274871826171875],\n",
       "  'Electron_charge': [-1, 1]},\n",
       " {'Electron_pt': [8.170220375061035],\n",
       "  'Electron_phi': [-0.970458984375],\n",
       "  'Electron_eta': [2.1767578125],\n",
       "  'Electron_mass': [0.0135498046875],\n",
       "  'Electron_charge': [-1]}]"
      ]
     },
     "execution_count": 11,
     "metadata": {},
     "output_type": "execute_result"
    }
   ],
   "source": [
    "gen_electron_kinematics[:3].to_list()"
   ]
  },
  {
   "cell_type": "code",
   "execution_count": 12,
   "metadata": {
    "tags": []
   },
   "outputs": [
    {
     "data": {
      "text/plain": [
       "[[46.35100555419922, 11.204719543457031],\n",
       " [96.58295440673828, 11.642792701721191],\n",
       " [8.170220375061035]]"
      ]
     },
     "execution_count": 12,
     "metadata": {},
     "output_type": "execute_result"
    }
   ],
   "source": [
    "gen_electron_kinematics.Electron_pt[:3].to_list()"
   ]
  },
  {
   "cell_type": "markdown",
   "metadata": {},
   "source": [
    "Finally, we can start creating histograms with our data using the Hist library whose documentation can be found here [**(Hist)**](https://hist.readthedocs.io/en/latest/index.html). Let's first define our axes for binning, create instances of some histograms, fill these histograms wiht our data, and then plot the histograms:"
   ]
  },
  {
   "cell_type": "code",
   "execution_count": 13,
   "metadata": {
    "tags": []
   },
   "outputs": [
    {
     "data": {
      "image/png": "[encoded data removed]",
      "text/plain": [
       "<Figure size 640x480 with 1 Axes>"
      ]
     },
     "metadata": {},
     "output_type": "display_data"
    }
   ],
   "source": [
    "lepton_cat = hist.axis.StrCategory(categories=[\"Electron\", \"Muon\"], name=\"lepton\")\n",
    "lepton_pt_axis = hist.axis.Regular(100, 0, 150, name=\"lepton_pt\")\n",
    "\n",
    "gen_pt_hist = hist.Hist(lepton_cat, lepton_pt_axis)\n",
    "\n",
    "gen_pt_hist.fill(lepton_pt=ak.flatten(gen_electron_kinematics.Electron_pt), lepton=\"Electron\")\n",
    "gen_pt_hist.fill(lepton_pt=ak.flatten(gen_muon_kinematics.Muon_pt), lepton=\"Muon\")\n",
    "\n",
    "gen_pt_hist.plot()\n",
    "plt.title(\"Gen Particle $p_{T}$\")\n",
    "plt.xlabel(\"$P_{T}$ (GeV)\")\n",
    "plt.legend();"
   ]
  },
  {
   "cell_type": "markdown",
   "metadata": {},
   "source": [
    "For completeness, lets also plot histograms from our reconstructed electron and muon files using the same algorithm we have been using."
   ]
  },
  {
   "cell_type": "code",
   "execution_count": 14,
   "metadata": {
    "tags": []
   },
   "outputs": [],
   "source": [
    "#reco_electron_file = uproot.open(\"root://xcache//store/data/Run2016F/SingleElectron/NANOAOD/UL2016_MiniAODv2_NanoAODv9-v1/130000/31BADB98-BCD8-4B40-9825-7709B08299BD.root\")\n",
    "#reco_muon_file = uproot.open(\"root://xcache//store/data/Run2016F/SingleMuon/NANOAOD/UL2016_MiniAODv2_NanoAODv9-v1/130000/FF9B5EE5-4C8E-3F41-B608-AC8DD47E51F2.root\")\n",
    "\n",
    "reco_electron_file = uproot.open(\"root://cmsxrootd.fnal.gov//store/data/Run2016F/SingleElectron/NANOAOD/UL2016_MiniAODv2_NanoAODv9-v1/130000/31BADB98-BCD8-4B40-9825-7709B08299BD.root\")\n",
    "reco_muon_file = uproot.open(\"root://cmsxrootd.fnal.gov//store/data/Run2016F/SingleMuon/NANOAOD/UL2016_MiniAODv2_NanoAODv9-v1/130000/FF9B5EE5-4C8E-3F41-B608-AC8DD47E51F2.root\")\n",
    "\n",
    "reco_electron_tree = reco_electron_file[\"Events\"]\n",
    "reco_muon_tree = reco_muon_file[\"Events\"]\n",
    "\n",
    "reco_electron_kinematics = reco_electron_tree.arrays([\"Electron_pt\", \"Electron_phi\", \"Electron_eta\", \"Electron_mass\", \"Electron_charge\"])\n",
    "reco_muon_kinematics = reco_muon_tree.arrays([\"Muon_pt\", \"Muon_phi\", \"Muon_eta\", \"Muon_mass\", \"Muon_charge\"])"
   ]
  },
  {
   "cell_type": "markdown",
   "metadata": {},
   "source": [
    "Although `reco_electron_tree` and `reco_muon_tree` each contain both electron ***and*** muon branches, we will only plot each tree's respective particle species."
   ]
  },
  {
   "cell_type": "code",
   "execution_count": 15,
   "metadata": {
    "tags": []
   },
   "outputs": [
    {
     "data": {
      "image/png": "[encoded data removed]",
      "text/plain": [
       "<Figure size 640x480 with 1 Axes>"
      ]
     },
     "metadata": {},
     "output_type": "display_data"
    }
   ],
   "source": [
    "lepton_cat = hist.axis.StrCategory(categories=[\"Electron\", \"Muon\"], name=\"lepton\")\n",
    "lepton_pt_axis = hist.axis.Regular(100, 0, 150, name=\"lepton_pt\")\n",
    "\n",
    "reco_pt_hist = hist.Hist(lepton_cat, lepton_pt_axis)\n",
    "\n",
    "reco_pt_hist.fill(lepton_pt=ak.flatten(reco_electron_kinematics.Electron_pt), lepton=\"Electron\")\n",
    "reco_pt_hist.fill(lepton_pt=ak.flatten(reco_muon_kinematics.Muon_pt), lepton=\"Muon\")\n",
    "\n",
    "reco_pt_hist.plot()\n",
    "plt.title(\"Reco Particle $p_{T}$\")\n",
    "plt.xlabel(\"$P_{T}$ (GeV)\")\n",
    "plt.legend();"
   ]
  },
  {
   "cell_type": "markdown",
   "metadata": {},
   "source": [
    "### Data Analysis with Uproot Browser\n",
    "\n",
    "We can also explore ROOT files through a terminal-based browser that provides an interface simiar to a GUI (i.e. a TUI based on text). When working on Coffea-casa, this means that we must install a package through pip on the terminal as [explained here](https://coffea-casa.readthedocs.io/en/latest/cc_packages.html). Documentaion for this browser can be found here [**(Uproot Browser)**](https://github.com/scikit-hep/uproot-browser.git). We must therefore use `pip install uproot-browser` to install the package.\n",
    "<br><br>\n",
    "In order to open and examine a ROOT file, we use the command `uproot-browser browse path/to/file.root` on the terminal. We can test this on the files in `skhep_testdata/data/`, however at the present we are unable to open our MC and Reco files through this method; plan to resolve this issue in the future."
   ]
  },
  {
   "cell_type": "markdown",
   "metadata": {},
   "source": [
    "### Data Analysis with NanoEvents\n",
    "\n",
    "As we have seen, ROOT files have many redundant branches that can muddy up the analysis. For example, when we run `mc_file.show()` we see that there are multiple branches for `Electron_*` and `Muon_*`, and Uproot treats all these branches differently. NanoEvents is a Coffea utility that helps standardize files according to a chosen schema; the `BaseSchema` schema thus acts the same as default lazy Uproot. Documentation for Coffea can be found here [**(Coffea)**](https://coffea-casa.readthedocs.io/en/latest/).\n",
    "<br>\n",
    "<br>\n",
    "For our purposes, we will use `NanoAODSchema` which essentially gathers all electron and muon branches into ***collections*** endowed with Lorentz vector methods from the Vector library, whose documentation can be found here [**(Vector)**](https://vector.readthedocs.io/en/latest/). Let's construct our events with `NanoEventsFactory.from_root()`:"
   ]
  },
  {
   "cell_type": "code",
   "execution_count": 16,
   "metadata": {
    "tags": []
   },
   "outputs": [],
   "source": [
    "#gen_file = \"skhep_testdata/data/nanoAOD_2015_CMS_Open_Data_ttbar.root\"\n",
    "#gen_file = \"root://xcache//store/mc/RunIISummer20UL16NanoAODv9/DYJetsToLL_M-50_HT-100to200_TuneCP5_PSweights_13TeV-madgraphMLM-pythia8/NANOAODSIM/106X_mcRun2_asymptotic_v17-v2/260000/18D0A087-30BD-FE4E-B447-5F493C2D2794.root\"\n",
    "gen_file = \"root://cmsxrootd.fnal.gov//store/mc/RunIISummer20UL16NanoAODv9/DYJetsToLL_M-50_HT-100to200_TuneCP5_PSweights_13TeV-madgraphMLM-pythia8/NANOAODSIM/106X_mcRun2_asymptotic_v17-v2/260000/18D0A087-30BD-FE4E-B447-5F493C2D2794.root\"\n",
    "gen_events = NanoEventsFactory.from_root(gen_file, schemaclass=NanoAODSchema).events()"
   ]
  },
  {
   "cell_type": "markdown",
   "metadata": {},
   "source": [
    "Now that we have a NanoEvent the syntax for accessing its contents is different from plain Uproot, although it still acts as a Python dictionary. For example, instead of the `keys()` method, we use `fields`:"
   ]
  },
  {
   "cell_type": "code",
   "execution_count": 17,
   "metadata": {
    "collapsed": true,
    "jupyter": {
     "outputs_hidden": true
    },
    "tags": []
   },
   "outputs": [
    {
     "data": {
      "text/plain": [
       "['SubJet',\n",
       " 'SoftActivityJetHT10',\n",
       " 'FsrPhoton',\n",
       " 'btagWeight',\n",
       " 'genWeight',\n",
       " 'L1simulation',\n",
       " 'PV',\n",
       " 'Muon',\n",
       " 'Pileup',\n",
       " 'LHEPdfWeight',\n",
       " 'RawPuppiMET',\n",
       " 'DeepMETResponseTune',\n",
       " 'PSWeight',\n",
       " 'fixedGridRhoFastjetCentral',\n",
       " 'GenJet',\n",
       " 'GenPart',\n",
       " 'CaloMET',\n",
       " 'ChsMET',\n",
       " 'GenVisTau',\n",
       " 'run',\n",
       " 'FatJet',\n",
       " 'SoftActivityJet',\n",
       " 'IsoTrack',\n",
       " 'DeepMETResolutionTune',\n",
       " 'LHEPart',\n",
       " 'GenVtx',\n",
       " 'SoftActivityJetHT2',\n",
       " 'SoftActivityJetHT5',\n",
       " 'PuppiMET',\n",
       " 'Generator',\n",
       " 'LHEScaleWeight',\n",
       " 'HLT',\n",
       " 'GenIsolatedPhoton',\n",
       " 'MET',\n",
       " 'Flag',\n",
       " 'LHE',\n",
       " 'LowPtElectron',\n",
       " 'L1PreFiringWeight',\n",
       " 'fixedGridRhoFastjetAll',\n",
       " 'Tau',\n",
       " 'TrigObj',\n",
       " 'Photon',\n",
       " 'HTXS',\n",
       " 'TkMET',\n",
       " 'SoftActivityJetHT',\n",
       " 'SV',\n",
       " 'fixedGridRhoFastjetCentralCalo',\n",
       " 'L1Reco',\n",
       " 'luminosityBlock',\n",
       " 'SubGenJetAK8',\n",
       " 'HLTriggerFinalPath',\n",
       " 'Electron',\n",
       " 'genTtbarId',\n",
       " 'fixedGridRhoFastjetCentralNeutral',\n",
       " 'HLTriggerFirstPath',\n",
       " 'fixedGridRhoFastjetCentralChargedPileUp',\n",
       " 'SoftActivityJetNjets5',\n",
       " 'event',\n",
       " 'GenJetAK8',\n",
       " 'GenMET',\n",
       " 'LHEWeight',\n",
       " 'CorrT1METJet',\n",
       " 'OtherPV',\n",
       " 'Jet',\n",
       " 'RawMET',\n",
       " 'SoftActivityJetNjets10',\n",
       " 'SoftActivityJetNjets2',\n",
       " 'GenDressedLepton',\n",
       " 'LHEReweightingWeight',\n",
       " 'L1',\n",
       " 'boostedTau']"
      ]
     },
     "execution_count": 17,
     "metadata": {},
     "output_type": "execute_result"
    }
   ],
   "source": [
    "gen_events.fields"
   ]
  },
  {
   "cell_type": "markdown",
   "metadata": {},
   "source": [
    "The electron and muon collections can also be queried with `fields`:"
   ]
  },
  {
   "cell_type": "code",
   "execution_count": 18,
   "metadata": {},
   "outputs": [
    {
     "name": "stdout",
     "output_type": "stream",
     "text": [
      "['dEscaleDown', 'dEscaleUp', 'dEsigmaDown', 'dEsigmaUp', 'deltaEtaSC', 'dr03EcalRecHitSumEt', 'dr03HcalDepth1TowerSumEt', 'dr03TkSumPt', 'dr03TkSumPtHEEP', 'dxy', 'dxyErr', 'dz', 'dzErr', 'eCorr', 'eInvMinusPInv', 'energyErr', 'eta', 'hoe', 'ip3d', 'jetPtRelv2', 'jetRelIso', 'mass', 'miniPFRelIso_all', 'miniPFRelIso_chg', 'mvaFall17V2Iso', 'mvaFall17V2noIso', 'pfRelIso03_all', 'pfRelIso03_chg', 'phi', 'pt', 'r9', 'scEtOverPt', 'sieie', 'sip3d', 'mvaTTH', 'charge', 'cutBased', 'jetIdx', 'pdgId', 'photonIdx', 'tightCharge', 'vidNestedWPBitmap', 'vidNestedWPBitmapHEEP', 'convVeto', 'cutBased_HEEP', 'isPFcand', 'jetNDauCharged', 'lostHits', 'mvaFall17V2Iso_WP80', 'mvaFall17V2Iso_WP90', 'mvaFall17V2Iso_WPL', 'mvaFall17V2noIso_WP80', 'mvaFall17V2noIso_WP90', 'mvaFall17V2noIso_WPL', 'seedGain', 'genPartIdx', 'genPartFlav', 'cleanmask', 'genPartIdxG', 'jetIdxG', 'photonIdxG']\n",
      "\n",
      "['dxy', 'dxyErr', 'dxybs', 'dz', 'dzErr', 'eta', 'ip3d', 'jetPtRelv2', 'jetRelIso', 'mass', 'miniPFRelIso_all', 'miniPFRelIso_chg', 'pfRelIso03_all', 'pfRelIso03_chg', 'pfRelIso04_all', 'phi', 'pt', 'ptErr', 'segmentComp', 'sip3d', 'softMva', 'tkRelIso', 'tunepRelPt', 'mvaLowPt', 'mvaTTH', 'charge', 'jetIdx', 'nStations', 'nTrackerLayers', 'pdgId', 'tightCharge', 'fsrPhotonIdx', 'highPtId', 'highPurity', 'inTimeMuon', 'isGlobal', 'isPFcand', 'isStandalone', 'isTracker', 'jetNDauCharged', 'looseId', 'mediumId', 'mediumPromptId', 'miniIsoId', 'multiIsoId', 'mvaId', 'mvaLowPtId', 'pfIsoId', 'puppiIsoId', 'softId', 'softMvaId', 'tightId', 'tkIsoId', 'triggerIdLoose', 'genPartIdx', 'genPartFlav', 'cleanmask', 'fsrPhotonIdxG', 'genPartIdxG', 'jetIdxG']\n"
     ]
    }
   ],
   "source": [
    "electrons = gen_events.Electron\n",
    "muons = gen_events.Muon\n",
    "print(f'{electrons.fields}\\n\\n{muons.fields}')"
   ]
  },
  {
   "cell_type": "markdown",
   "metadata": {},
   "source": [
    "The preferred method of constructing vector objects is through the Vector library, which shares many similarities with the Awkward library. Once constructed, vector methods can be called to obtain new variables."
   ]
  },
  {
   "cell_type": "code",
   "execution_count": 19,
   "metadata": {
    "tags": []
   },
   "outputs": [
    {
     "data": {
      "text/plain": [
       "[[{'rho': 46.35100555419922,\n",
       "   'phi': -1.73193359375,\n",
       "   'eta': 0.6239013671875,\n",
       "   'tau': -0.01036834716796875,\n",
       "   'charge': -1},\n",
       "  {'rho': 11.204719543457031,\n",
       "   'phi': 1.875244140625,\n",
       "   'eta': 1.4326171875,\n",
       "   'tau': 0.003875732421875,\n",
       "   'charge': -1}],\n",
       " [{'rho': 96.58295440673828,\n",
       "   'phi': 1.446044921875,\n",
       "   'eta': 0.4996337890625,\n",
       "   'tau': -0.034637451171875,\n",
       "   'charge': -1},\n",
       "  {'rho': 11.642792701721191,\n",
       "   'phi': -2.50537109375,\n",
       "   'eta': 2.31201171875,\n",
       "   'tau': -0.01274871826171875,\n",
       "   'charge': 1}],\n",
       " [{'rho': 8.170220375061035,\n",
       "   'phi': -0.970458984375,\n",
       "   'eta': 2.1767578125,\n",
       "   'tau': 0.0135498046875,\n",
       "   'charge': -1}]]"
      ]
     },
     "execution_count": 19,
     "metadata": {},
     "output_type": "execute_result"
    }
   ],
   "source": [
    "electron_kinematics = vector.zip({\n",
    "    \"pt\": electrons.pt,\n",
    "    \"phi\": electrons.phi,\n",
    "    \"eta\": electrons.eta,\n",
    "    \"mass\": electrons.mass,\n",
    "    \"charge\": electrons.charge\n",
    "})\n",
    "\n",
    "electron_kinematics[:3].to_list()"
   ]
  },
  {
   "cell_type": "code",
   "execution_count": 20,
   "metadata": {
    "tags": []
   },
   "outputs": [
    {
     "name": "stdout",
     "output_type": "stream",
     "text": [
      "[[46.4, 11.2], [96.6, 11.6], [8.17], [], ... [], [22.7], [6.29], [86.8], [8.23]]\n",
      "[[0.984, 0.469], [1.09, 0.197], [0.226], [], ... [1.92], [0.236], [2.53], [1.02]]\n",
      "[[0.624, 1.43], [0.5, 2.31], [2.18], [], ... [-0.358], [2.13], [-1.15], [0.585]]\n"
     ]
    }
   ],
   "source": [
    "print(electron_kinematics.pt)\n",
    "print(electron_kinematics.theta)\n",
    "print(electron_kinematics.pseudorapidity)"
   ]
  },
  {
   "cell_type": "markdown",
   "metadata": {
    "tags": []
   },
   "source": [
    "We can also access these vector methods through the `coffea.nanoevents.methods` module. For example, although `energy` is not present in `electrons.fields`, it can be obtained by calling it. Similarly, we can compute the pseudorapidity $\\eta = - \\ln{(\\tan \\theta / 2 )}$, which is now known as `eta`, and the distance $\\Delta R = \\sqrt{\\Delta \\eta^{2} + \\Delta \\phi^{2}}$ between two objects:"
   ]
  },
  {
   "cell_type": "code",
   "execution_count": 21,
   "metadata": {},
   "outputs": [
    {
     "name": "stdout",
     "output_type": "stream",
     "text": [
      "[[55.7, 24.8], [109, 59.3], [36.5], [], [26.7, ... [], [24.1], [26.9], [150], [9.67]]\n",
      "[[0.624, 1.43], [0.5, 2.31], [2.18], [], ... [-0.358], [2.13], [-1.15], [0.585]]\n",
      "2.7955389118613985\n"
     ]
    }
   ],
   "source": [
    "electron_energies = electrons.energy\n",
    "electron_pseudorapidities = electrons.eta\n",
    "electron_dr = electrons[0][0].delta_r(electrons[0][1])\n",
    "\n",
    "print(electron_energies)\n",
    "print(electron_pseudorapidities)\n",
    "print(electron_dr)"
   ]
  },
  {
   "cell_type": "markdown",
   "metadata": {},
   "source": [
    "As can be seen, Awkward indexing works the same as in Numpy so that `electrons[0][0]` will select from the first event the first electron, `electrons[1][0]` will select from the second event the first electron and so on. Mathematical operations on our electrons can then be perfomed:"
   ]
  },
  {
   "cell_type": "code",
   "execution_count": 22,
   "metadata": {
    "tags": []
   },
   "outputs": [
    {
     "name": "stdout",
     "output_type": "stream",
     "text": [
      "x = [-7.44, -3.36]\n",
      "y = [-45.8, 10.7]\n",
      "z = [30.8, 22.1]\n",
      "t = [55.7, 24.8]\n",
      "charge = [-1, -1]\n",
      "\n",
      "{x: -10.8, y: -35.1, z: 53, t: 80.5, charge: -2}\n"
     ]
    }
   ],
   "source": [
    "electron_sum = electrons[0][0] + electrons[0][1]\n",
    "print(f\"x = {electrons.px[0]}\\ny = {electrons.py[0]}\\nz = {electrons.pz[0]}\\nt = {electrons.t[0]}\\ncharge = {electrons.charge[0]}\\n\")\n",
    "print(electron_sum)"
   ]
  },
  {
   "cell_type": "markdown",
   "metadata": {},
   "source": [
    "Another feature added by NanoEvents is data cross-referencing, such as linking `jetIdx` or `pdgId` to our electron collection."
   ]
  },
  {
   "cell_type": "code",
   "execution_count": 23,
   "metadata": {},
   "outputs": [
    {
     "name": "stdout",
     "output_type": "stream",
     "text": [
      "[[0, 4], [0, 5], [1], [], [0], [0], [0], ... [0], [], [0], [], [0], [-1], [0], [-1]]\n",
      "[[11, 11], [11, -11], [11], [], [-11], ... [-11], [], [-11], [-11], [-11], [11]]\n"
     ]
    }
   ],
   "source": [
    "print(electrons.jetIdx)\n",
    "print(electrons.pdgId)"
   ]
  },
  {
   "cell_type": "markdown",
   "metadata": {},
   "source": [
    "An important tool we need to perform our analysis is the concept of data masking to select or reject elements of an array based on some criteria. The following is an example of a simple mask:\n",
    "\n",
    "```python\n",
    "mask = np.array([True, False, True, False, True])\n",
    "data = np.array(['a', 'b', 'd', 'c', 'e'])\n",
    "data[mask]\n",
    "\n",
    "array(['a', 'd', 'e'], dtype='<U1')\n",
    "```\n",
    "\n",
    "Our final array is thus composed of only `True` mask elements. We can use this concept on our electron or muon collections to select events with two particles (a particle and anti-particle pair), each with $p_{T}$ above some threshold. "
   ]
  },
  {
   "cell_type": "code",
   "execution_count": 24,
   "metadata": {
    "tags": []
   },
   "outputs": [
    {
     "name": "stdout",
     "output_type": "stream",
     "text": [
      "[[Electron, Electron], [Electron, Electron, ... Electron], [Electron, Electron]]\n",
      "[[Muon, Muon], [Muon, Muon], [Muon, Muon, ... Muon], [Muon, Muon], [Muon, Muon]]\n"
     ]
    }
   ],
   "source": [
    "electron_pt_mask = electrons.pt > 10\n",
    "muon_pt_mask = muons.pt > 10\n",
    "\n",
    "electrons = electrons[electron_pt_mask]\n",
    "muons = muons[muon_pt_mask]\n",
    "\n",
    "dielectrons = electrons[(ak.num(electrons, axis=1) == 2) & (ak.sum(electrons.charge, axis=1) == 0)]\n",
    "dimuons = muons[(ak.num(muons, axis=1) == 2) & (ak.sum(muons.charge, axis=1) == 0)]\n",
    "\n",
    "print(dielectrons)\n",
    "print(dimuons)"
   ]
  },
  {
   "cell_type": "code",
   "execution_count": 25,
   "metadata": {
    "tags": []
   },
   "outputs": [
    {
     "name": "stdout",
     "output_type": "stream",
     "text": [
      "[92.9, 47, 197, 89, 90.4, 90.1, 91.4, ... 83.3, 83, 76.4, 0.982, 112, 91.5, 91.1]\n",
      "[81.5, 84.8, 89.5, 96.7, 90.9, 90.2, 88.5, ... 93.6, 90.4, 86.6, 91.5, 95, 90.9]\n"
     ]
    }
   ],
   "source": [
    "ee_mass = (dielectrons[:, 0] + dielectrons[:, 1]).mass\n",
    "mumu_mass = (dimuons[:, 0] + dimuons[:, 1]).mass\n",
    "\n",
    "print(ee_mass)\n",
    "print(mumu_mass)"
   ]
  },
  {
   "cell_type": "markdown",
   "metadata": {},
   "source": [
    "Now that we have this flattened array of dilepton masses, we can go ahead and plot their histograms as before:"
   ]
  },
  {
   "cell_type": "code",
   "execution_count": 26,
   "metadata": {
    "tags": []
   },
   "outputs": [
    {
     "data": {
      "image/png": "[encoded data removed]",
      "text/plain": [
       "<Figure size 640x480 with 1 Axes>"
      ]
     },
     "metadata": {},
     "output_type": "display_data"
    }
   ],
   "source": [
    "dilepton_cat = hist.axis.StrCategory(categories=[\"ee\", \"$\\mu\\mu$\"], name=\"lepton\")\n",
    "dilepton_mass_axis = hist.axis.Regular(50, 0, 150, name=\"dilep_mass\")\n",
    "\n",
    "dilepton_mass_hist = hist.Hist(dilepton_cat, dilepton_mass_axis)\n",
    "\n",
    "dilepton_mass_hist.fill(dilep_mass=ee_mass, lepton=\"ee\")\n",
    "dilepton_mass_hist.fill(dilep_mass=mumu_mass, lepton=\"$\\mu\\mu$\")\n",
    "\n",
    "dilepton_mass_hist.plot()\n",
    "plt.title(\"Gen Dilepton Mass\")\n",
    "plt.xlabel(\"Dilepton Mass (GeV)\")\n",
    "plt.legend();"
   ]
  },
  {
   "cell_type": "markdown",
   "metadata": {},
   "source": [
    "Lastly, we perform the same analysis on our electron and muon reco files:"
   ]
  },
  {
   "cell_type": "code",
   "execution_count": 27,
   "metadata": {},
   "outputs": [
    {
     "name": "stderr",
     "output_type": "stream",
     "text": [
      "/opt/conda/lib/python3.8/site-packages/awkward/_connect/_numpy.py:195: RuntimeWarning: invalid value encountered in sqrt\n",
      "  result = getattr(ufunc, method)(\n"
     ]
    }
   ],
   "source": [
    "reco_electron_file = \"root://cmsxrootd.fnal.gov//store/data/Run2016F/SingleElectron/NANOAOD/UL2016_MiniAODv2_NanoAODv9-v1/130000/31BADB98-BCD8-4B40-9825-7709B08299BD.root\"\n",
    "reco_muon_file = \"root://cmsxrootd.fnal.gov//store/data/Run2016F/SingleMuon/NANOAOD/UL2016_MiniAODv2_NanoAODv9-v1/130000/FF9B5EE5-4C8E-3F41-B608-AC8DD47E51F2.root\"\n",
    "\n",
    "reco_electron_events = NanoEventsFactory.from_root(reco_electron_file, schemaclass=NanoAODSchema).events()\n",
    "reco_muon_events = NanoEventsFactory.from_root(reco_muon_file, schemaclass=NanoAODSchema).events()\n",
    "\n",
    "electrons = reco_electron_events.Electron[reco_electron_events.Electron.pt > 10]\n",
    "muons = reco_muon_events.Muon[reco_muon_events.Muon.pt >10]\n",
    "\n",
    "dielectrons = electrons[(ak.num(electrons, axis=1) == 2) & (ak.sum(electrons.charge, axis=1) == 0)]\n",
    "dimuons = muons[(ak.num(muons, axis=1) == 2) & (ak.sum(muons.charge, axis=1) == 0)]\n",
    "\n",
    "ee_mass = (dielectrons[:, 0] + dielectrons[:, 1]).mass\n",
    "mumu_mass = (dimuons[:, 0] + dimuons[:, 1]).mass"
   ]
  },
  {
   "cell_type": "code",
   "execution_count": 28,
   "metadata": {
    "tags": []
   },
   "outputs": [
    {
     "data": {
      "image/png": "[encoded data removed]",
      "text/plain": [
       "<Figure size 640x480 with 1 Axes>"
      ]
     },
     "metadata": {},
     "output_type": "display_data"
    }
   ],
   "source": [
    "dilepton_cat = hist.axis.StrCategory(categories=[\"ee\", \"$\\mu\\mu$\"], name=\"lepton\")\n",
    "dilepton_mass_axis = hist.axis.Regular(50, 0, 150, name=\"dilep_mass\")\n",
    "\n",
    "dilepton_mass_hist = hist.Hist(dilepton_cat, dilepton_mass_axis)\n",
    "\n",
    "dilepton_mass_hist.fill(dilep_mass=ee_mass, lepton=\"ee\")\n",
    "dilepton_mass_hist.fill(dilep_mass=mumu_mass, lepton=\"$\\mu\\mu$\")\n",
    "\n",
    "dilepton_mass_hist.plot()\n",
    "plt.title(\"Reco Dilepton Mass\")\n",
    "plt.xlabel(\"Dilepton Mass (GeV)\")\n",
    "plt.legend();"
   ]
  },
  {
   "cell_type": "markdown",
   "metadata": {},
   "source": [
    "## Scaling Data Analysis with Coffea\n",
    "\n",
    "The analysis we've performed so far can be streamlined and made more efficient by utilizing the Coffea processor class. The basic details of this class are summarized as follows:\n",
    "\n",
    "* `__init__`: Histogram axes and objects are defined here and gatherered in a \n",
    "* `accumulator`:\n",
    "* `process`:\n",
    "* `postprocess`:\n",
    "\n"
   ]
  },
  {
   "cell_type": "code",
   "execution_count": 29,
   "metadata": {},
   "outputs": [],
   "source": [
    "class Processor(processor.ProcessorABC):\n",
    "    def __init__(self):\n",
    "        dilepton_cat = hist.axis.StrCategory(categories=[\"ee\", \"$\\mu\\mu$\"], name=\"lepton\")\n",
    "        dilepton_mass_axis = hist.axis.Regular(50, 0, 150, name=\"dilep_mass\")\n",
    "        \n",
    "        h_dilepton_mass_gen = hist.Hist(dilepton_cat, dilepton_mass_axis)\n",
    "        \n",
    "        cutflow = {}\n",
    "        \n",
    "        self.hists = {\n",
    "            \"dilepton_mass_gen\":h_dilepton_mass_gen,\n",
    "            \"cutflow\":cutflow\n",
    "        }\n",
    "        \n",
    "    @property\n",
    "    def accumulator(self):\n",
    "        return self.hists\n",
    "    \n",
    "    def process(self, events):\n",
    "        electrons = events.Electron[events.Electron.pt > 10]\n",
    "        muons = events.Muon[events.Muon.pt >10]\n",
    "        \n",
    "        dielectrons = electrons[(ak.num(electrons, axis=1) == 2) & (ak.sum(electrons.charge, axis=1) == 0)]        \n",
    "        dimuons = muons[(ak.num(muons, axis=1) == 2) & (ak.sum(muons.charge, axis=1) == 0)]\n",
    "        \n",
    "        ee_mass = (dielectrons[:, 0] + dielectrons[:, 1]).mass\n",
    "        mumu_mass = (dimuons[:, 0] + dimuons[:, 1]).mass\n",
    "        \n",
    "        self.hists[\"dilepton_mass_gen\"].fill(dilep_mass=ee_mass, lepton=\"ee\")\n",
    "        self.hists[\"dilepton_mass_gen\"].fill(dilep_mass=mumu_mass, lepton=\"$\\mu\\mu$\")\n",
    "        \n",
    "        return self.hists\n",
    "        \n",
    "    def postprocess(self, accumulator):\n",
    "        return accumulator"
   ]
  },
  {
   "cell_type": "markdown",
   "metadata": {},
   "source": []
  },
  {
   "cell_type": "code",
   "execution_count": 30,
   "metadata": {},
   "outputs": [
    {
     "name": "stderr",
     "output_type": "stream",
     "text": [
      "/opt/conda/lib/python3.8/site-packages/distributed/client.py:1288: VersionMismatchWarning: Mismatched versions found\n",
      "\n",
      "+---------+----------------+----------------+----------------+\n",
      "| Package | client         | scheduler      | workers        |\n",
      "+---------+----------------+----------------+----------------+\n",
      "| python  | 3.8.16.final.0 | 3.8.16.final.0 | 3.8.15.final.0 |\n",
      "+---------+----------------+----------------+----------------+\n",
      "  warnings.warn(version_module.VersionMismatchWarning(msg[0][\"warning\"]))\n"
     ]
    },
    {
     "name": "stdout",
     "output_type": "stream",
     "text": [
      "[########################################] | 100% Completed | 12.6s\r"
     ]
    },
    {
     "data": {
      "image/png": "[encoded data removed]",
      "text/plain": [
       "<Figure size 640x480 with 1 Axes>"
      ]
     },
     "metadata": {},
     "output_type": "display_data"
    }
   ],
   "source": [
    "fileset = {\n",
    "    'mc_file':['root://cmsxrootd.fnal.gov//store/mc/RunIISummer20UL16NanoAODv9/DYJetsToLL_M-50_HT-100to200_TuneCP5_PSweights_13TeV-madgraphMLM-pythia8/NANOAODSIM/106X_mcRun2_asymptotic_v17-v2/260000/18D0A087-30BD-FE4E-B447-5F493C2D2794.root'],\n",
    "}\n",
    "\n",
    "client = Client(\"tls://cebarros-40buffalo-2eedu.dask.cmsaf-prod.flatiron.hollandhpc.org:8786\")\n",
    "\n",
    "run = processor.Runner(executor=processor.DaskExecutor(client=client),\n",
    "                      schema=NanoAODSchema,\n",
    "                      chunksize=10000)\n",
    "\n",
    "output = run(fileset, \"Events\", processor_instance=Processor())\n",
    "\n",
    "output[\"dilepton_mass_gen\"].plot()\n",
    "plt.title(\"Gen Dilepton Mass\")\n",
    "plt.xlabel(\"Dilepton Mass (GeV)\")\n",
    "plt.legend();"
   ]
  },
  {
   "cell_type": "code",
   "execution_count": null,
   "metadata": {},
   "outputs": [],
   "source": []
  }
 ],
 "metadata": {
  "kernelspec": {
   "display_name": "Python 3 (ipykernel)",
   "language": "python",
   "name": "python3"
  },
  "language_info": {
   "codemirror_mode": {
    "name": "ipython",
    "version": 3
   },
   "file_extension": ".py",
   "mimetype": "text/x-python",
   "name": "python",
   "nbconvert_exporter": "python",
   "pygments_lexer": "ipython3",
   "version": "3.8.16"
  }
 },
 "nbformat": 4,
 "nbformat_minor": 4
}
